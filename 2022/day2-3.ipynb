{
 "cells": [
  {
   "cell_type": "code",
   "execution_count": 36,
   "metadata": {
    "ExecuteTime": {
     "end_time": "2020-08-02T10:50:49.363845Z",
     "start_time": "2020-08-02T10:50:49.358858Z"
    }
   },
   "outputs": [],
   "source": [
    "import math\n",
    "import numpy as np\n",
    "import scipy as sp\n",
    "import matplotlib.pyplot as plt\n",
    "from scipy.optimize import leastsq\n",
    "from sklearn.preprocessing import PolynomialFeatures\n",
    "from sklearn.model_selection import train_test_split"
   ]
  },
  {
   "cell_type": "code",
   "execution_count": 37,
   "metadata": {
    "ExecuteTime": {
     "end_time": "2020-08-02T10:50:49.791388Z",
     "start_time": "2020-08-02T10:50:49.785423Z"
    },
    "code_folding": []
   },
   "outputs": [],
   "source": [
    "#day2\n",
    "\n",
    "x = np.loadtxt(\"data20.csv\",delimiter=\" \",usecols=(0))\n",
    "y = np.loadtxt(\"data20.csv\",delimiter=\" \",usecols=(1))\n"
   ]
  },
  {
   "cell_type": "code",
   "execution_count": 38,
   "metadata": {
    "ExecuteTime": {
     "end_time": "2020-08-02T10:50:50.490544Z",
     "start_time": "2020-08-02T10:50:50.314021Z"
    }
   },
   "outputs": [
    {
     "name": "stdout",
     "output_type": "stream",
     "text": [
      "[-5.57212326e+03  3.19671732e+04 -7.65698558e+04  1.00298228e+05\n",
      " -7.88326544e+04  3.82959467e+04 -1.13551259e+04  1.92226491e+03\n",
      " -1.58340980e+02  5.16522609e+00]\n",
      "[-5.62136792e+03  3.21920350e+04 -7.70068909e+04  1.00769851e+05\n",
      " -7.91417376e+04  3.84223332e+04 -1.13870034e+04  1.92698774e+03\n",
      " -1.58716166e+02  5.17899938e+00]\n"
     ]
    },
    {
     "data": {
      "image/png": "[encoded data removed]",
      "text/plain": [
       "<Figure size 432x288 with 1 Axes>"
      ]
     },
     "metadata": {
      "needs_background": "light"
     },
     "output_type": "display_data"
    }
   ],
   "source": [
    "#use leastSquares\n",
    "def leastSquares(X, Y, degree):      \n",
    "    Xs = []\n",
    "    for i in range(degree+1):\n",
    "        Xs.append(X**i)\n",
    "    Xs = np.array(Xs).T\n",
    "    Y = Y.T\n",
    "    XT = Xs.transpose()\n",
    "    W = np.dot(np.dot(np.linalg.inv(np.dot(XT,Xs)),XT),Y)\n",
    "    return W[::-1]\n",
    "\n",
    "x = np.loadtxt(\"data20.csv\",delimiter=\" \",usecols=(0))\n",
    "y = np.loadtxt(\"data20.csv\",delimiter=\" \",usecols=(1))\n",
    "\n",
    "print(leastSquares(x, y, 9))\n",
    "\n",
    "#use polyfit\n",
    "f = np.polyfit(x, y, 9) \n",
    "p = np.poly1d(f)\n",
    "print(f)\n",
    "x_pred = np.arange(0.0, 1.0, 0.01)\n",
    "y_pred = p(x_pred)\n",
    "\n",
    "plt.axis([0,1,-1,1])\n",
    "plt.plot(x, y, '.')\n",
    "plt.plot(x_pred, y_pred)\n",
    "plt.show()"
   ]
  },
  {
   "cell_type": "code",
   "execution_count": 42,
   "metadata": {
    "ExecuteTime": {
     "end_time": "2020-08-02T10:52:00.978836Z",
     "start_time": "2020-08-02T10:52:00.760854Z"
    }
   },
   "outputs": [
    {
     "name": "stdout",
     "output_type": "stream",
     "text": [
      "Fitting Parameters: [-5.71801575e+03  3.26306849e+04 -7.78537135e+04  1.01676900e+05\n",
      " -7.97313214e+04  3.86612793e+04 -1.14466988e+04  1.93572802e+03\n",
      " -1.59384267e+02  5.19870176e+00]\n"
     ]
    },
    {
     "data": {
      "image/png": "[encoded data removed]",
      "text/plain": [
       "<Figure size 432x288 with 1 Axes>"
      ]
     },
     "metadata": {
      "needs_background": "light"
     },
     "output_type": "display_data"
    }
   ],
   "source": [
    "#use leastSq\n",
    "def real_func(x):\n",
    "    return np.sin(2*np.pi*x)\n",
    "\n",
    "def fit_func(p, x):\n",
    "    f = np.poly1d(p)\n",
    "    return f(x)\n",
    "\n",
    "def residuals_func(p, x, y):\n",
    "    ret = fit_func(p, x) - y\n",
    "    return ret\n",
    "\n",
    "def fitting(M=0):\n",
    "    \n",
    "    p_init = np.random.rand(M+1)\n",
    "    p_lsq = leastsq(residuals_func, p_init, args=(x, y))\n",
    "    print('Fitting Parameters:', p_lsq[0])\n",
    "    \n",
    "    plt.plot(x, y, '.', label='real')\n",
    "    plt.plot(x_points, fit_func(p_lsq[0], x_points), label='fitted curve')\n",
    "    plt.legend()\n",
    "    return p_lsq\n",
    "\n",
    "x_points = np.linspace(0, 1, 1000)\n",
    "p_lsq_0 = fitting(M=9)\n"
   ]
  },
  {
   "cell_type": "code",
   "execution_count": 7,
   "metadata": {
    "ExecuteTime": {
     "end_time": "2020-08-02T09:54:14.089241Z",
     "start_time": "2020-08-02T09:54:14.082748Z"
    }
   },
   "outputs": [
    {
     "name": "stdout",
     "output_type": "stream",
     "text": [
      "rms error is: 0.44030722285756535\n"
     ]
    }
   ],
   "source": [
    "#day3 7.11\n",
    "\n",
    "def rmse(predictions, targets):\n",
    "    return np.sqrt(((predictions - targets) ** 2).mean())\n",
    "\n",
    "y_pred = p(x)\n",
    "rmse_pred = rmse(y_pred, y)\n",
    "print(\"rms error is: \" + str(rmse_pred))"
   ]
  },
  {
   "cell_type": "code",
   "execution_count": 8,
   "metadata": {
    "ExecuteTime": {
     "end_time": "2020-08-02T09:54:14.596911Z",
     "start_time": "2020-08-02T09:54:14.590927Z"
    }
   },
   "outputs": [],
   "source": [
    "#day3 7.12\n",
    "\n",
    "x_train, x_test, y_train, y_test = train_test_split(x, y, test_size=0.5)\n",
    "\n",
    "f = np.polyfit(x_train, y_train, 3)\n",
    "p = np.poly1d(f)"
   ]
  },
  {
   "cell_type": "code",
   "execution_count": 9,
   "metadata": {
    "ExecuteTime": {
     "end_time": "2020-08-02T09:54:15.218375Z",
     "start_time": "2020-08-02T09:54:15.213446Z"
    },
    "scrolled": false
   },
   "outputs": [
    {
     "name": "stdout",
     "output_type": "stream",
     "text": [
      "rms error is: 0.11273188397702011\n"
     ]
    }
   ],
   "source": [
    "#day3 7.13\n",
    "\n",
    "y_train_pred = p(x_train)\n",
    "rmse_train = rmse(y_train_pred, y_train)\n",
    "print(\"rms error is: \" + str(rmse_train))"
   ]
  },
  {
   "cell_type": "code",
   "execution_count": 10,
   "metadata": {
    "ExecuteTime": {
     "end_time": "2020-08-02T09:54:15.810956Z",
     "start_time": "2020-08-02T09:54:15.805996Z"
    }
   },
   "outputs": [
    {
     "name": "stdout",
     "output_type": "stream",
     "text": [
      "rms error is: 0.13425276451867943\n"
     ]
    }
   ],
   "source": [
    "#day3 7.14\n",
    "\n",
    "y_test_pred = p(x_test)\n",
    "rmse_test = rmse(y_test_pred, y_test)\n",
    "print(\"rms error is: \" + str(rmse_test))"
   ]
  },
  {
   "cell_type": "code",
   "execution_count": 11,
   "metadata": {
    "ExecuteTime": {
     "end_time": "2020-08-02T09:54:17.762476Z",
     "start_time": "2020-08-02T09:54:17.366536Z"
    }
   },
   "outputs": [
    {
     "name": "stdout",
     "output_type": "stream",
     "text": [
      "[0.3911444088260878, 0.38950827100778623, 0.11273188397702011, 0.11273017796423569, 0.09940253906796913, 0.09831711588455674, 0.09578146175190504, 0.09415043845454278, 0.09379393205081847] [0.48488451314994147, 0.48879908630028873, 0.13425276451867943, 0.1342278944857114, 0.11312109610022668, 0.11820002270001094, 0.1177995524652538, 0.12598100258341563, 0.1219213692475982]\n",
      "<class 'list'>\n"
     ]
    },
    {
     "data": {
      "text/plain": [
       "[<matplotlib.lines.Line2D at 0x24b6a23d518>]"
      ]
     },
     "execution_count": 11,
     "metadata": {},
     "output_type": "execute_result"
    },
    {
     "data": {
      "image/png": "[encoded data removed]",
      "text/plain": [
       "<Figure size 432x288 with 1 Axes>"
      ]
     },
     "metadata": {
      "needs_background": "light"
     },
     "output_type": "display_data"
    }
   ],
   "source": [
    "#day3 7.15\n",
    "\n",
    "M = [1,2,3,4,5,6,7,8,9]\n",
    "RMSE_train = []\n",
    "RMSE_test = []\n",
    "\n",
    "for num in M:\n",
    "    f = np.polyfit(x_train, y_train, num) \n",
    "    p = np.poly1d(f)\n",
    "    y_train_pred = p(x_train)\n",
    "    rmse_train = rmse(y_train_pred, y_train)\n",
    "    RMSE_train.append(rmse_train)\n",
    "    y_test_pred = p(x_test)\n",
    "    rmse_test = rmse(y_test_pred, y_test)\n",
    "    RMSE_test.append(rmse_test)\n",
    "\n",
    "print (RMSE_train, RMSE_test)\n",
    "print (type(RMSE_train))\n",
    "plt.plot(M, RMSE_train, color='green', label='training error')\n",
    "plt.plot(M, RMSE_test, color='red', label='testing error')\n",
    "\n",
    "#day3 7.16 略"
   ]
  }
 ],
 "metadata": {
  "kernelspec": {
   "display_name": "Python 3",
   "language": "python",
   "name": "python3"
  },
  "language_info": {
   "codemirror_mode": {
    "name": "ipython",
    "version": 3
   },
   "file_extension": ".py",
   "mimetype": "text/x-python",
   "name": "python",
   "nbconvert_exporter": "python",
   "pygments_lexer": "ipython3",
   "version": "3.6.9"
  },
  "varInspector": {
   "cols": {
    "lenName": 16,
    "lenType": 16,
    "lenVar": 40
   },
   "kernels_config": {
    "python": {
     "delete_cmd_postfix": "",
     "delete_cmd_prefix": "del ",
     "library": "var_list.py",
     "varRefreshCmd": "print(var_dic_list())"
    },
    "r": {
     "delete_cmd_postfix": ") ",
     "delete_cmd_prefix": "rm(",
     "library": "var_list.r",
     "varRefreshCmd": "cat(var_dic_list()) "
    }
   },
   "types_to_exclude": [
    "module",
    "function",
    "builtin_function_or_method",
    "instance",
    "_Feature"
   ],
   "window_display": false
  }
 },
 "nbformat": 4,
 "nbformat_minor": 2
}
